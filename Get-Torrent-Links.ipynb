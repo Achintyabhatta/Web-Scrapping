{
 "cells": [
  {
   "cell_type": "code",
   "execution_count": 10,
   "metadata": {},
   "outputs": [],
   "source": [
    "# Get top 50 movies of genre of your choice and along with the choices of torrent links for them"
   ]
  },
  {
   "cell_type": "code",
   "execution_count": 1,
   "metadata": {},
   "outputs": [],
   "source": [
    "import pandas as pd\n",
    "import requests\n",
    "from bs4 import BeautifulSoup\n",
    "import io\n",
    "import re"
   ]
  },
  {
   "cell_type": "code",
   "execution_count": 2,
   "metadata": {},
   "outputs": [],
   "source": [
    "def make_request(URL):\n",
    "    output = requests.get(url = URL)\n",
    "    output = output.content\n",
    "    return BeautifulSoup(output,'html5lib')"
   ]
  },
  {
   "cell_type": "code",
   "execution_count": 11,
   "metadata": {},
   "outputs": [
    {
     "name": "stdout",
     "output_type": "stream",
     "text": [
      " Get list of top 50 movies of Genre - {0: 'Action', 1: 'Adventure', 2: 'Animation', 3: 'Biography', 4: 'Comedy', 5: 'Crime', 6: 'Documentary', 7: 'Drama', 8: 'Family', 9: 'Fantasy', 10: 'History', 11: 'Horror', 12: 'Music', 13: 'Musical', 14: 'Mystery', 15: 'Romance', 16: 'Sci-Fi', 17: 'Short', 18: 'Sport', 19: 'Superhero', 20: 'Thriller', 21: 'War', 22: 'Western'}20\n"
     ]
    }
   ],
   "source": [
    "search_case = ['Action','Adventure','Animation','Biography','Comedy','Crime','Documentary','Drama','Family','Fantasy','History','Horror','Music','Musical','Mystery','Romance','Sci-Fi','Short','Sport','Superhero'\n",
    ",'Thriller','War','Western']\n",
    "list_genre = {}\n",
    "i = 0\n",
    "for val in search_case:\n",
    "    list_genre[i] = val\n",
    "    i += 1\n",
    "search_case = int(input(f\" Get list of top 50 movies of Genre - {list_genre}\"))"
   ]
  },
  {
   "cell_type": "code",
   "execution_count": 13,
   "metadata": {
    "scrolled": true
   },
   "outputs": [],
   "source": [
    "URL = 'https://www.imdb.com/search/title/?genres='+list_genre[search_case]+'&num_votes=1000,&sort=user_rating,desc&title_type=feature'\n",
    "soup1 = make_request(URL)\n",
    "titles = soup1.find_all('div',class_='lister-item mode-advanced')\n",
    "movie_table = {}\n",
    "\n",
    "# movie list ka dictionary create ho gaya hai ab yaha pe\n",
    "for data in titles:\n",
    "    lis = data.find_all('div',class_=\"inline-block ratings-imdb-rating\")\n",
    "    movie_table[data.h3.a.get_text()] = lis[0].find_all('strong')[0].get_text()"
   ]
  },
  {
   "cell_type": "code",
   "execution_count": 14,
   "metadata": {},
   "outputs": [],
   "source": [
    "main_page_start = \"<html><head><title> Movie and torrents </title> </head> <body> <table border='1'>\"\n",
    "main_page_end = \"</table></body></html>\"\n",
    "main_page_middle = \"\"\n",
    "for keys,values in movie_table.items():\n",
    "    link_1 = \"https://www.1377x.to/search/\"+ keys +\"/1/\"\n",
    "    soup2 = make_request(link_1)\n",
    "    value_to_be_added_html = None\n",
    "    if soup2.find_all('div',class_=\"box-info-heading clearfix\"):\n",
    "        tables = soup2.find_all('tr') # get all the rows having links in the table\n",
    "        tables.pop(0) # remove the header row that is unnecessary\n",
    "        html_start_string,html_end_string,html_mid_string = \"<table>\",\"</table>\",\"\"\n",
    "        link_2,link_3 = None,None\n",
    "        for data in tables:\n",
    "            temp1 = data.find_all('a')[1]\n",
    "            link_2 = \"https://www.1377x.to\" + temp1['href']\n",
    "            soup3 = make_request(link_1)\n",
    "            temp2 = soup3.find_all('a' , href = re.compile(\"(^magnet+)\"))\n",
    "            if temp2:\n",
    "                link_3 = temp2[0]['href']\n",
    "            else:\n",
    "                link_3 = link_2\n",
    "            html_mid_string += \"<tr><td>\"+ temp1.get_text() +\"</td><td><a href = \"+ link_3 + \"> \" +link_2+\"</a></td></tr>\"\n",
    "        value_to_be_added_html = html_start_string + html_mid_string + html_end_string\n",
    "    else:\n",
    "        value_to_be_added_html = \"<h3> No Torrents Found for this movie. </h3>\"\n",
    "    main_page_middle += \"<tr><td>\"+ keys +\"</td><td>\"+ values +\"</td><td>\"+ value_to_be_added_html +\"</td></tr>\"\n",
    "with io.open('links.html', \"w\", encoding=\"utf-8\") as f:\n",
    "    f.write(main_page_start + main_page_middle + main_page_end)\n",
    "f.close()"
   ]
  }
 ],
 "metadata": {
  "kernelspec": {
   "display_name": "Python 3",
   "language": "python",
   "name": "python3"
  },
  "language_info": {
   "codemirror_mode": {
    "name": "ipython",
    "version": 3
   },
   "file_extension": ".py",
   "mimetype": "text/x-python",
   "name": "python",
   "nbconvert_exporter": "python",
   "pygments_lexer": "ipython3",
   "version": "3.7.3"
  }
 },
 "nbformat": 4,
 "nbformat_minor": 2
}
